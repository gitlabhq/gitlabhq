{
 "cells": [
  {
   "cell_type": "code",
   "execution_count": 1,
   "id": "ansi1",
   "metadata": {},
   "outputs": [
    {
     "name": "stdout",
     "output_type": "stream",
     "text": [
      "\u001b[31mError in red\u001b[0m\n"
     ]
    }
   ],
   "source": [
    "print('Error in red')"
   ]
  }
 ],
 "metadata": {
  "kernelspec": {
   "language": "python"
  }
 }
}
