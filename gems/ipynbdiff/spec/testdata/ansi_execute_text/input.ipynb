{
 "cells": [
  {
   "cell_type": "code",
   "execution_count": 1,
   "id": "ansi2",
   "metadata": {},
   "outputs": [
    {
     "output_type": "execute_result",
     "data": {
      "text/plain": [
       "\u001b[1;32mSuccess\u001b[0m"
      ]
     }
    }
   ],
   "source": [
    "print('Success')"
   ]
  }
 ],
 "metadata": {
  "kernelspec": {
   "language": "python"
  }
 }
}
